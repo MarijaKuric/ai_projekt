{
 "cells": [
  {
   "cell_type": "markdown",
   "id": "adcd3e52",
   "metadata": {},
   "source": [
    "Tim MiBAI-Marija Kurić i Barbara Medica(2.godina prijediplomskog studija informatika, redovni), kolegij:Umjetna inteligencija"
   ]
  },
  {
   "cell_type": "markdown",
   "id": "acbd4e19",
   "metadata": {},
   "source": [
    "1.UVOD:\n",
    "Cilj ovog zadatka je razviti AI model koji klasificira nepoznate uzorke po klasama.\n",
    " Klasifikator se trenira nad skupom train_data.csv, dok se testiranje vrši na skupu test_data.csv. Predikcije se zatim učitavaju na Kaggle."
   ]
  },
  {
   "cell_type": "markdown",
   "id": "7e610d34",
   "metadata": {},
   "source": [
    "2.TEORIJSKI PRIKAZ ALGORITAMA I KORIŠTENIH POSTUPAKA\n",
    "U ovom radu koristimo Random Forest algoritam – metodu temeljenu na stablima odlučivanja. Random Forest kombinira više stabala, čime se postiže bolja generalizacija i otpornost na overfitting. \n",
    "\n",
    "Osnovne karakteristike algoritma:\n",
    "Kombinacija više stabala odlučivanja (bagging).\n",
    "Svako stablo u šumi trenira se na različitom uzorku podataka.\n",
    "Na testu se koristi većinsko glasanje (\"majority voting\").\n",
    "\n",
    "Također primjenjujemo:\n",
    "StandardScaler za skaliranje podataka (standardizacija).\n",
    "Train/Test split za evaluaciju modela prije stvarne primjene."
   ]
  },
  {
   "cell_type": "code",
   "execution_count": null,
   "id": "885b9a35",
   "metadata": {
    "vscode": {
     "languageId": "plaintext"
    }
   },
   "outputs": [],
   "source": [
    "3.OPIS I PRIPREMA KORIŠTENIH PODATAKA\n",
    "\n",
    "import pandas as pd\n",
    "import matplotlib.pyplot as plt\n",
    "from sklearn.preprocessing import StandardScaler\n",
    "from sklearn.ensemble import RandomForestClassifier\n",
    "from sklearn.model_selection import train_test_split\n",
    "from sklearn.metrics import classification_report, accuracy_score\n",
    "\n",
    "# Učitavanje podataka\n",
    "train_df = pd.read_csv(\"train_data.csv\")\n",
    "test_df = pd.read_csv(\"test_data.csv\")\n",
    "\n",
    "print(\"Primjer iz trening skupa:\")\n",
    "display(train_df.head())\n",
    "\n",
    "print(\"Primjer iz test skupa:\")\n",
    "display(test_df.head())\n",
    "\n",
    "print(\"Provjera nedostajućih vrijednosti u train skupu:\")\n",
    "print(train_df.isnull().sum())\n",
    "\n",
    "print(\"Provjera nedostajućih vrijednosti u test skupu:\")\n",
    "print(test_df.isnull().sum())\n",
    "\n",
    "Opis podataka:\n",
    "Skup sadrži 9 značajki (feature_0 do feature_8).\n",
    "Ciljna varijabla class označava kojoj klasi podatak pripada (vrijednosti od 0 do 9).\n",
    "Test skup nema class kolonu — koristi se isključivo za predikciju."
   ]
  },
  {
   "cell_type": "markdown",
   "id": "735c2cc7",
   "metadata": {},
   "source": [
    "4.MODELIRANJE, TRENIRANJE I EVALUACIJA\n",
    "# Razdvajanje značajki i ciljne varijable\n",
    "X = train_df.drop(columns=['class'])\n",
    "y = train_df['class']\n",
    "X_test_final = test_df.copy()\n",
    "\n",
    "# Standardizacija podataka\n",
    "scaler = StandardScaler()\n",
    "X_scaled = scaler.fit_transform(X)\n",
    "X_test_scaled = scaler.transform(X_test_final)\n",
    "\n",
    "# Podjela trening podataka na tren/validacijski skup\n",
    "X_train, X_val, y_train, y_val = train_test_split(X_scaled, y, test_size=0.2, random_state=42)\n",
    "\n",
    "# Treniranje modela\n",
    "model = RandomForestClassifier(n_estimators=100, random_state=42)\n",
    "model.fit(X_train, y_train)\n",
    "\n",
    "# Evaluacija na validacijskom skupu\n",
    "y_val_pred = model.predict(X_val)\n",
    "\n",
    "print(\"Izvještaj klasifikacije:\")\n",
    "print(classification_report(y_val, y_val_pred))\n",
    "print(\"Točnost:\", accuracy_score(y_val, y_val_pred))\n"
   ]
  },
  {
   "cell_type": "code",
   "execution_count": null,
   "id": "3cd05415",
   "metadata": {
    "vscode": {
     "languageId": "plaintext"
    }
   },
   "outputs": [],
   "source": [
    "5.VIZUALIZACIJA VAŽNOSTI ZNAČAJKI \n",
    "# Prikaz značajki koje su najviše doprinijele klasifikaciji\n",
    "feature_importance = pd.DataFrame({\n",
    "    'feature': X.columns,\n",
    "    'importance': model.feature_importances_\n",
    "}).sort_values('importance', ascending=False)\n",
    "\n",
    "print(\"Važnost značajki:\")\n",
    "display(feature_importance)\n",
    "\n",
    "plt.figure(figsize=(10, 6))\n",
    "plt.barh(feature_importance['feature'], feature_importance['importance'], color='skyblue')\n",
    "plt.title(\"Važnost značajki\")\n",
    "plt.xlabel(\"Važnost\")\n",
    "plt.gca().invert_yaxis()\n",
    "plt.tight_layout()\n",
    "plt.show()\n"
   ]
  },
  {
   "cell_type": "markdown",
   "id": "303c25d3",
   "metadata": {},
   "source": [
    "6.PREDIKCIJA I KREIRANJE CSV DATOTEKE ZA KAGGLE\n",
    "# Predikcija klasa na test podacima\n",
    "test_preds = model.predict(X_test_scaled)\n",
    "\n",
    "# Kreiranje DataFrame-a za predaju\n",
    "submission_df = pd.DataFrame({\n",
    "    \"ID\": list(range(len(test_preds))),\n",
    "    \"class\": test_preds\n",
    "})\n",
    "\n",
    "# Spremanje bez indeksa\n",
    "submission_df.to_csv(\"submission.csv\", index=False)\n",
    "print(\"Pregled rezultata za predaju:\")\n",
    "display(submission_df.head())\n"
   ]
  },
  {
   "attachments": {
    "image.png": {
     "image/png": "[encoded data removed]"
    }
   },
   "cell_type": "markdown",
   "id": "3fc568ef",
   "metadata": {},
   "source": [
    "7.PRIKAZ REZULTATA\n",
    "Trenirani model daje 92.750 točnosti.\n",
    "![image.png](attachment:image.png)"
   ]
  },
  {
   "cell_type": "markdown",
   "id": "4dfa44ec",
   "metadata": {},
   "source": [
    "8.ZAKLJUČAK\n",
    "Model Random Forest pokazao se kao stabilno i učinkovito rješenje za problem klasifikacije s višestrukim klasama.\n",
    "Postignuta točnost na validacijskom skupu je zadovoljavajuća i pokazuje dobar potencijal generalizacije.\n",
    "\n",
    "Prednosti:\n",
    "- Jednostavna interpretacija važnosti značajki.\n",
    "- Dobri rezultati bez intenzivnog podešavanja hiperparametara.\n",
    "\n",
    "Model je korišten za generiranje predikcija na test podacima i spremanje u `submission.csv`, spremno za evaluaciju na Kaggle platformi.\n"
   ]
  },
  {
   "cell_type": "markdown",
   "id": "bd881efb",
   "metadata": {},
   "source": [
    "9.REFERENCE\n",
    "- https://scikit-learn.org/stable/modules/generated/sklearn.ensemble.RandomForestClassifier.html\n",
    "- https://pandas.pydata.org/\n",
    "- https://numpy.org/\n",
    "- https://matplotlib.org/\n"
   ]
  }
 ],
 "metadata": {
  "language_info": {
   "name": "python"
  }
 },
 "nbformat": 4,
 "nbformat_minor": 5
}
